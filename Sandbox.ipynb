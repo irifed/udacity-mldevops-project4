{
 "cells": [
  {
   "cell_type": "code",
   "execution_count": 2,
   "id": "ecbe3c69",
   "metadata": {
    "pycharm": {
     "name": "#%%\n"
    }
   },
   "outputs": [],
   "source": [
    "import sys\n",
    "sys.path.append('.')"
   ]
  },
  {
   "cell_type": "code",
   "execution_count": 3,
   "id": "bec531da",
   "metadata": {
    "pycharm": {
     "name": "#%%\n"
    }
   },
   "outputs": [],
   "source": [
    "import os\n",
    "import glob\n",
    "import json"
   ]
  },
  {
   "cell_type": "code",
   "execution_count": 4,
   "id": "4bd171c9",
   "metadata": {
    "pycharm": {
     "name": "#%%\n"
    }
   },
   "outputs": [],
   "source": [
    "import pandas as pd\n",
    "import numpy as np\n",
    "import matplotlib.pyplot as plt"
   ]
  },
  {
   "cell_type": "code",
   "execution_count": 65,
   "id": "10d21fa7",
   "metadata": {},
   "outputs": [],
   "source": [
    "from sklearn.metrics import confusion_matrix, ConfusionMatrixDisplay"
   ]
  },
  {
   "cell_type": "code",
   "execution_count": 5,
   "id": "2651e562",
   "metadata": {
    "pycharm": {
     "name": "#%%\n"
    }
   },
   "outputs": [],
   "source": [
    "with open('config.json', 'r') as f:\n",
    "    config = json.load(f) \n",
    "\n",
    "input_folder_path = config['input_folder_path']\n",
    "output_folder_path = config['output_folder_path']"
   ]
  },
  {
   "cell_type": "code",
   "execution_count": 6,
   "id": "44953c60",
   "metadata": {
    "pycharm": {
     "name": "#%%\n"
    }
   },
   "outputs": [],
   "source": [
    "ingested_f = open(os.path.join(output_folder_path, 'ingestedfiles.txt'), 'w')\n",
    "\n",
    "full_df = pd.DataFrame()\n",
    "for csv_f in glob.glob(pathname='practicedata/*.csv'):\n",
    "    df = pd.read_csv(csv_f)\n",
    "    full_df = pd.concat([full_df, df], axis=0, ignore_index=True)\n",
    "    ingested_f.write(f'{csv_f}\\n')\n",
    "    \n",
    "ingested_f.close()\n",
    "\n",
    "full_df = full_df.drop_duplicates(ignore_index=True)\n",
    "full_df.to_csv(os.path.join(output_folder_path, 'finaldata.csv'), index=False)"
   ]
  },
  {
   "cell_type": "code",
   "execution_count": 7,
   "id": "d039b193",
   "metadata": {
    "pycharm": {
     "name": "#%%\n"
    }
   },
   "outputs": [
    {
     "data": {
      "text/html": [
       "<div>\n",
       "<style scoped>\n",
       "    .dataframe tbody tr th:only-of-type {\n",
       "        vertical-align: middle;\n",
       "    }\n",
       "\n",
       "    .dataframe tbody tr th {\n",
       "        vertical-align: top;\n",
       "    }\n",
       "\n",
       "    .dataframe thead th {\n",
       "        text-align: right;\n",
       "    }\n",
       "</style>\n",
       "<table border=\"1\" class=\"dataframe\">\n",
       "  <thead>\n",
       "    <tr style=\"text-align: right;\">\n",
       "      <th></th>\n",
       "      <th>corporation</th>\n",
       "      <th>lastmonth_activity</th>\n",
       "      <th>lastyear_activity</th>\n",
       "      <th>number_of_employees</th>\n",
       "      <th>exited</th>\n",
       "    </tr>\n",
       "  </thead>\n",
       "  <tbody>\n",
       "    <tr>\n",
       "      <th>0</th>\n",
       "      <td>nciw</td>\n",
       "      <td>100</td>\n",
       "      <td>1359</td>\n",
       "      <td>1</td>\n",
       "      <td>0</td>\n",
       "    </tr>\n",
       "    <tr>\n",
       "      <th>1</th>\n",
       "      <td>lsid</td>\n",
       "      <td>68</td>\n",
       "      <td>282</td>\n",
       "      <td>14</td>\n",
       "      <td>0</td>\n",
       "    </tr>\n",
       "    <tr>\n",
       "      <th>2</th>\n",
       "      <td>pwls</td>\n",
       "      <td>71</td>\n",
       "      <td>949</td>\n",
       "      <td>40</td>\n",
       "      <td>1</td>\n",
       "    </tr>\n",
       "    <tr>\n",
       "      <th>3</th>\n",
       "      <td>bqlx</td>\n",
       "      <td>686</td>\n",
       "      <td>3782</td>\n",
       "      <td>103</td>\n",
       "      <td>0</td>\n",
       "    </tr>\n",
       "    <tr>\n",
       "      <th>4</th>\n",
       "      <td>zmei</td>\n",
       "      <td>45</td>\n",
       "      <td>655</td>\n",
       "      <td>7</td>\n",
       "      <td>0</td>\n",
       "    </tr>\n",
       "    <tr>\n",
       "      <th>5</th>\n",
       "      <td>wosl</td>\n",
       "      <td>0</td>\n",
       "      <td>18</td>\n",
       "      <td>21</td>\n",
       "      <td>1</td>\n",
       "    </tr>\n",
       "    <tr>\n",
       "      <th>6</th>\n",
       "      <td>xcvb</td>\n",
       "      <td>189</td>\n",
       "      <td>961</td>\n",
       "      <td>18</td>\n",
       "      <td>1</td>\n",
       "    </tr>\n",
       "    <tr>\n",
       "      <th>7</th>\n",
       "      <td>dfgh</td>\n",
       "      <td>16</td>\n",
       "      <td>1028</td>\n",
       "      <td>33</td>\n",
       "      <td>0</td>\n",
       "    </tr>\n",
       "    <tr>\n",
       "      <th>8</th>\n",
       "      <td>ngrd</td>\n",
       "      <td>9</td>\n",
       "      <td>45</td>\n",
       "      <td>1</td>\n",
       "      <td>1</td>\n",
       "    </tr>\n",
       "    <tr>\n",
       "      <th>9</th>\n",
       "      <td>xful</td>\n",
       "      <td>0</td>\n",
       "      <td>67</td>\n",
       "      <td>14</td>\n",
       "      <td>1</td>\n",
       "    </tr>\n",
       "    <tr>\n",
       "      <th>10</th>\n",
       "      <td>kshe</td>\n",
       "      <td>48</td>\n",
       "      <td>986</td>\n",
       "      <td>22</td>\n",
       "      <td>1</td>\n",
       "    </tr>\n",
       "    <tr>\n",
       "      <th>11</th>\n",
       "      <td>qqqq</td>\n",
       "      <td>52</td>\n",
       "      <td>650</td>\n",
       "      <td>11</td>\n",
       "      <td>1</td>\n",
       "    </tr>\n",
       "    <tr>\n",
       "      <th>12</th>\n",
       "      <td>corp</td>\n",
       "      <td>1090</td>\n",
       "      <td>2452</td>\n",
       "      <td>9</td>\n",
       "      <td>0</td>\n",
       "    </tr>\n",
       "    <tr>\n",
       "      <th>13</th>\n",
       "      <td>ekci</td>\n",
       "      <td>6</td>\n",
       "      <td>88</td>\n",
       "      <td>90</td>\n",
       "      <td>1</td>\n",
       "    </tr>\n",
       "    <tr>\n",
       "      <th>14</th>\n",
       "      <td>dosk</td>\n",
       "      <td>99</td>\n",
       "      <td>390</td>\n",
       "      <td>99</td>\n",
       "      <td>1</td>\n",
       "    </tr>\n",
       "    <tr>\n",
       "      <th>15</th>\n",
       "      <td>endi</td>\n",
       "      <td>75</td>\n",
       "      <td>800</td>\n",
       "      <td>81</td>\n",
       "      <td>1</td>\n",
       "    </tr>\n",
       "    <tr>\n",
       "      <th>16</th>\n",
       "      <td>gudj</td>\n",
       "      <td>255</td>\n",
       "      <td>1687</td>\n",
       "      <td>2</td>\n",
       "      <td>0</td>\n",
       "    </tr>\n",
       "    <tr>\n",
       "      <th>17</th>\n",
       "      <td>abcd</td>\n",
       "      <td>78</td>\n",
       "      <td>1024</td>\n",
       "      <td>12</td>\n",
       "      <td>1</td>\n",
       "    </tr>\n",
       "    <tr>\n",
       "      <th>18</th>\n",
       "      <td>asdf</td>\n",
       "      <td>14</td>\n",
       "      <td>2145</td>\n",
       "      <td>20</td>\n",
       "      <td>0</td>\n",
       "    </tr>\n",
       "    <tr>\n",
       "      <th>19</th>\n",
       "      <td>xyzz</td>\n",
       "      <td>182</td>\n",
       "      <td>3891</td>\n",
       "      <td>35</td>\n",
       "      <td>0</td>\n",
       "    </tr>\n",
       "    <tr>\n",
       "      <th>20</th>\n",
       "      <td>acme</td>\n",
       "      <td>101</td>\n",
       "      <td>10983</td>\n",
       "      <td>2</td>\n",
       "      <td>1</td>\n",
       "    </tr>\n",
       "    <tr>\n",
       "      <th>21</th>\n",
       "      <td>qwer</td>\n",
       "      <td>0</td>\n",
       "      <td>118</td>\n",
       "      <td>42</td>\n",
       "      <td>1</td>\n",
       "    </tr>\n",
       "    <tr>\n",
       "      <th>22</th>\n",
       "      <td>tyui</td>\n",
       "      <td>929</td>\n",
       "      <td>1992</td>\n",
       "      <td>1</td>\n",
       "      <td>0</td>\n",
       "    </tr>\n",
       "    <tr>\n",
       "      <th>23</th>\n",
       "      <td>zxcv</td>\n",
       "      <td>19</td>\n",
       "      <td>455</td>\n",
       "      <td>8</td>\n",
       "      <td>1</td>\n",
       "    </tr>\n",
       "    <tr>\n",
       "      <th>24</th>\n",
       "      <td>hjkl</td>\n",
       "      <td>94</td>\n",
       "      <td>868</td>\n",
       "      <td>3</td>\n",
       "      <td>1</td>\n",
       "    </tr>\n",
       "    <tr>\n",
       "      <th>25</th>\n",
       "      <td>lmno</td>\n",
       "      <td>81</td>\n",
       "      <td>1401</td>\n",
       "      <td>10</td>\n",
       "      <td>0</td>\n",
       "    </tr>\n",
       "  </tbody>\n",
       "</table>\n",
       "</div>"
      ],
      "text/plain": [
       "   corporation  lastmonth_activity  lastyear_activity  number_of_employees  \\\n",
       "0         nciw                 100               1359                    1   \n",
       "1         lsid                  68                282                   14   \n",
       "2         pwls                  71                949                   40   \n",
       "3         bqlx                 686               3782                  103   \n",
       "4         zmei                  45                655                    7   \n",
       "5         wosl                   0                 18                   21   \n",
       "6         xcvb                 189                961                   18   \n",
       "7         dfgh                  16               1028                   33   \n",
       "8         ngrd                   9                 45                    1   \n",
       "9         xful                   0                 67                   14   \n",
       "10        kshe                  48                986                   22   \n",
       "11        qqqq                  52                650                   11   \n",
       "12        corp                1090               2452                    9   \n",
       "13        ekci                   6                 88                   90   \n",
       "14        dosk                  99                390                   99   \n",
       "15        endi                  75                800                   81   \n",
       "16        gudj                 255               1687                    2   \n",
       "17        abcd                  78               1024                   12   \n",
       "18        asdf                  14               2145                   20   \n",
       "19        xyzz                 182               3891                   35   \n",
       "20        acme                 101              10983                    2   \n",
       "21        qwer                   0                118                   42   \n",
       "22        tyui                 929               1992                    1   \n",
       "23        zxcv                  19                455                    8   \n",
       "24        hjkl                  94                868                    3   \n",
       "25        lmno                  81               1401                   10   \n",
       "\n",
       "    exited  \n",
       "0        0  \n",
       "1        0  \n",
       "2        1  \n",
       "3        0  \n",
       "4        0  \n",
       "5        1  \n",
       "6        1  \n",
       "7        0  \n",
       "8        1  \n",
       "9        1  \n",
       "10       1  \n",
       "11       1  \n",
       "12       0  \n",
       "13       1  \n",
       "14       1  \n",
       "15       1  \n",
       "16       0  \n",
       "17       1  \n",
       "18       0  \n",
       "19       0  \n",
       "20       1  \n",
       "21       1  \n",
       "22       0  \n",
       "23       1  \n",
       "24       1  \n",
       "25       0  "
      ]
     },
     "execution_count": 7,
     "metadata": {},
     "output_type": "execute_result"
    }
   ],
   "source": [
    "full_df"
   ]
  },
  {
   "cell_type": "code",
   "execution_count": null,
   "id": "c076b43b",
   "metadata": {
    "pycharm": {
     "name": "#%%\n"
    }
   },
   "outputs": [],
   "source": [
    "keep_cols = [\n",
    "    'lastmonth_activity',\n",
    "    'lastyear_activity',\n",
    "    'number_of_employees'\n",
    "]"
   ]
  },
  {
   "cell_type": "code",
   "execution_count": null,
   "id": "cfe558f5",
   "metadata": {
    "pycharm": {
     "name": "#%%\n"
    }
   },
   "outputs": [],
   "source": [
    "full_df[keep_cols]"
   ]
  },
  {
   "cell_type": "code",
   "execution_count": null,
   "id": "c2ae4d7c",
   "metadata": {
    "pycharm": {
     "name": "#%%\n"
    }
   },
   "outputs": [],
   "source": [
    "df = pd.read_csv(os.path.join(config['output_folder_path'], 'finaldata.csv'))"
   ]
  },
  {
   "cell_type": "code",
   "execution_count": null,
   "id": "503521bc",
   "metadata": {
    "pycharm": {
     "name": "#%%\n"
    }
   },
   "outputs": [],
   "source": [
    "from training import process_data"
   ]
  },
  {
   "cell_type": "code",
   "execution_count": null,
   "id": "7409bf7d",
   "metadata": {
    "pycharm": {
     "name": "#%%\n"
    }
   },
   "outputs": [],
   "source": [
    "X_full, y_full = process_data(df, label='exited')"
   ]
  },
  {
   "cell_type": "code",
   "execution_count": null,
   "id": "06124a1c",
   "metadata": {
    "pycharm": {
     "name": "#%%\n"
    }
   },
   "outputs": [],
   "source": [
    "X_full.dtypes"
   ]
  },
  {
   "cell_type": "code",
   "execution_count": null,
   "id": "baa7363a",
   "metadata": {
    "pycharm": {
     "name": "#%%\n"
    }
   },
   "outputs": [],
   "source": [
    "y_full.unique()"
   ]
  },
  {
   "cell_type": "code",
   "execution_count": null,
   "id": "ebc84e4b",
   "metadata": {
    "pycharm": {
     "name": "#%%\n"
    }
   },
   "outputs": [],
   "source": [
    "y_full.dtypes"
   ]
  },
  {
   "cell_type": "code",
   "execution_count": null,
   "id": "9f4571ee",
   "metadata": {
    "pycharm": {
     "name": "#%%\n"
    }
   },
   "outputs": [],
   "source": [
    "X_full.describe()"
   ]
  },
  {
   "cell_type": "code",
   "execution_count": null,
   "id": "0834afbe",
   "metadata": {},
   "outputs": [],
   "source": [
    "full_df.describe()"
   ]
  },
  {
   "cell_type": "code",
   "execution_count": 26,
   "id": "12d2786b",
   "metadata": {},
   "outputs": [],
   "source": [
    "import numpy as np"
   ]
  },
  {
   "cell_type": "code",
   "execution_count": 30,
   "id": "15370b6c",
   "metadata": {
    "pycharm": {
     "name": "#%%\n"
    }
   },
   "outputs": [
    {
     "data": {
      "text/html": [
       "<div>\n",
       "<style scoped>\n",
       "    .dataframe tbody tr th:only-of-type {\n",
       "        vertical-align: middle;\n",
       "    }\n",
       "\n",
       "    .dataframe tbody tr th {\n",
       "        vertical-align: top;\n",
       "    }\n",
       "\n",
       "    .dataframe thead th {\n",
       "        text-align: right;\n",
       "    }\n",
       "</style>\n",
       "<table border=\"1\" class=\"dataframe\">\n",
       "  <thead>\n",
       "    <tr style=\"text-align: right;\">\n",
       "      <th></th>\n",
       "      <th>lastmonth_activity</th>\n",
       "      <th>lastyear_activity</th>\n",
       "      <th>number_of_employees</th>\n",
       "      <th>exited</th>\n",
       "    </tr>\n",
       "  </thead>\n",
       "  <tbody>\n",
       "    <tr>\n",
       "      <th>std</th>\n",
       "      <td>284.033229</td>\n",
       "      <td>2192.644958</td>\n",
       "      <td>31.353886</td>\n",
       "      <td>0.503831</td>\n",
       "    </tr>\n",
       "    <tr>\n",
       "      <th>mean</th>\n",
       "      <td>165.653846</td>\n",
       "      <td>1502.923077</td>\n",
       "      <td>26.884615</td>\n",
       "      <td>0.576923</td>\n",
       "    </tr>\n",
       "    <tr>\n",
       "      <th>50%</th>\n",
       "      <td>73.000000</td>\n",
       "      <td>955.000000</td>\n",
       "      <td>14.000000</td>\n",
       "      <td>1.000000</td>\n",
       "    </tr>\n",
       "  </tbody>\n",
       "</table>\n",
       "</div>"
      ],
      "text/plain": [
       "      lastmonth_activity  lastyear_activity  number_of_employees    exited\n",
       "std           284.033229        2192.644958            31.353886  0.503831\n",
       "mean          165.653846        1502.923077            26.884615  0.576923\n",
       "50%            73.000000         955.000000            14.000000  1.000000"
      ]
     },
     "execution_count": 30,
     "metadata": {},
     "output_type": "execute_result"
    }
   ],
   "source": [
    "full_df.describe(include=np.number).loc[['std', 'mean', '50%']]"
   ]
  },
  {
   "cell_type": "code",
   "execution_count": null,
   "id": "2d89c611",
   "metadata": {
    "pycharm": {
     "name": "#%%\n"
    }
   },
   "outputs": [],
   "source": [
    "full_df.info()"
   ]
  },
  {
   "cell_type": "code",
   "execution_count": null,
   "id": "7e641e28",
   "metadata": {},
   "outputs": [],
   "source": [
    "full_df.shape"
   ]
  },
  {
   "cell_type": "code",
   "execution_count": 8,
   "id": "56a25b1e",
   "metadata": {},
   "outputs": [],
   "source": [
    "test_data_df = pd.read_csv('testdata/testdata.csv')"
   ]
  },
  {
   "cell_type": "code",
   "execution_count": 10,
   "id": "4d208eec",
   "metadata": {},
   "outputs": [
    {
     "data": {
      "text/html": [
       "<div>\n",
       "<style scoped>\n",
       "    .dataframe tbody tr th:only-of-type {\n",
       "        vertical-align: middle;\n",
       "    }\n",
       "\n",
       "    .dataframe tbody tr th {\n",
       "        vertical-align: top;\n",
       "    }\n",
       "\n",
       "    .dataframe thead th {\n",
       "        text-align: right;\n",
       "    }\n",
       "</style>\n",
       "<table border=\"1\" class=\"dataframe\">\n",
       "  <thead>\n",
       "    <tr style=\"text-align: right;\">\n",
       "      <th></th>\n",
       "      <th>corporation</th>\n",
       "      <th>lastmonth_activity</th>\n",
       "      <th>lastyear_activity</th>\n",
       "      <th>number_of_employees</th>\n",
       "      <th>exited</th>\n",
       "    </tr>\n",
       "  </thead>\n",
       "  <tbody>\n",
       "    <tr>\n",
       "      <th>0</th>\n",
       "      <td>werf</td>\n",
       "      <td>234</td>\n",
       "      <td>3</td>\n",
       "      <td>10</td>\n",
       "      <td>1</td>\n",
       "    </tr>\n",
       "    <tr>\n",
       "      <th>1</th>\n",
       "      <td>sdfv</td>\n",
       "      <td>14</td>\n",
       "      <td>2145</td>\n",
       "      <td>99</td>\n",
       "      <td>0</td>\n",
       "    </tr>\n",
       "    <tr>\n",
       "      <th>2</th>\n",
       "      <td>edcv</td>\n",
       "      <td>34</td>\n",
       "      <td>333</td>\n",
       "      <td>1000</td>\n",
       "      <td>0</td>\n",
       "    </tr>\n",
       "    <tr>\n",
       "      <th>3</th>\n",
       "      <td>uhgr</td>\n",
       "      <td>101</td>\n",
       "      <td>12346</td>\n",
       "      <td>2</td>\n",
       "      <td>1</td>\n",
       "    </tr>\n",
       "    <tr>\n",
       "      <th>4</th>\n",
       "      <td>okjh</td>\n",
       "      <td>0</td>\n",
       "      <td>675</td>\n",
       "      <td>25</td>\n",
       "      <td>1</td>\n",
       "    </tr>\n",
       "  </tbody>\n",
       "</table>\n",
       "</div>"
      ],
      "text/plain": [
       "  corporation  lastmonth_activity  lastyear_activity  number_of_employees  \\\n",
       "0        werf                 234                  3                   10   \n",
       "1        sdfv                  14               2145                   99   \n",
       "2        edcv                  34                333                 1000   \n",
       "3        uhgr                 101              12346                    2   \n",
       "4        okjh                   0                675                   25   \n",
       "\n",
       "   exited  \n",
       "0       1  \n",
       "1       0  \n",
       "2       0  \n",
       "3       1  \n",
       "4       1  "
      ]
     },
     "execution_count": 10,
     "metadata": {},
     "output_type": "execute_result"
    }
   ],
   "source": [
    "test_data_df"
   ]
  },
  {
   "cell_type": "code",
   "execution_count": 16,
   "id": "adf1768b",
   "metadata": {},
   "outputs": [],
   "source": [
    "test_data_df.loc[1, 'exited'] = None"
   ]
  },
  {
   "cell_type": "code",
   "execution_count": 17,
   "id": "cf69c2ac",
   "metadata": {},
   "outputs": [
    {
     "data": {
      "text/html": [
       "<div>\n",
       "<style scoped>\n",
       "    .dataframe tbody tr th:only-of-type {\n",
       "        vertical-align: middle;\n",
       "    }\n",
       "\n",
       "    .dataframe tbody tr th {\n",
       "        vertical-align: top;\n",
       "    }\n",
       "\n",
       "    .dataframe thead th {\n",
       "        text-align: right;\n",
       "    }\n",
       "</style>\n",
       "<table border=\"1\" class=\"dataframe\">\n",
       "  <thead>\n",
       "    <tr style=\"text-align: right;\">\n",
       "      <th></th>\n",
       "      <th>corporation</th>\n",
       "      <th>lastmonth_activity</th>\n",
       "      <th>lastyear_activity</th>\n",
       "      <th>number_of_employees</th>\n",
       "      <th>exited</th>\n",
       "    </tr>\n",
       "  </thead>\n",
       "  <tbody>\n",
       "    <tr>\n",
       "      <th>0</th>\n",
       "      <td>werf</td>\n",
       "      <td>234</td>\n",
       "      <td>3</td>\n",
       "      <td>10</td>\n",
       "      <td>1.0</td>\n",
       "    </tr>\n",
       "    <tr>\n",
       "      <th>1</th>\n",
       "      <td>sdfv</td>\n",
       "      <td>14</td>\n",
       "      <td>2145</td>\n",
       "      <td>99</td>\n",
       "      <td>NaN</td>\n",
       "    </tr>\n",
       "    <tr>\n",
       "      <th>2</th>\n",
       "      <td>edcv</td>\n",
       "      <td>34</td>\n",
       "      <td>333</td>\n",
       "      <td>1000</td>\n",
       "      <td>0.0</td>\n",
       "    </tr>\n",
       "    <tr>\n",
       "      <th>3</th>\n",
       "      <td>uhgr</td>\n",
       "      <td>101</td>\n",
       "      <td>12346</td>\n",
       "      <td>2</td>\n",
       "      <td>1.0</td>\n",
       "    </tr>\n",
       "    <tr>\n",
       "      <th>4</th>\n",
       "      <td>okjh</td>\n",
       "      <td>0</td>\n",
       "      <td>675</td>\n",
       "      <td>25</td>\n",
       "      <td>1.0</td>\n",
       "    </tr>\n",
       "  </tbody>\n",
       "</table>\n",
       "</div>"
      ],
      "text/plain": [
       "  corporation  lastmonth_activity  lastyear_activity  number_of_employees  \\\n",
       "0        werf                 234                  3                   10   \n",
       "1        sdfv                  14               2145                   99   \n",
       "2        edcv                  34                333                 1000   \n",
       "3        uhgr                 101              12346                    2   \n",
       "4        okjh                   0                675                   25   \n",
       "\n",
       "   exited  \n",
       "0     1.0  \n",
       "1     NaN  \n",
       "2     0.0  \n",
       "3     1.0  \n",
       "4     1.0  "
      ]
     },
     "execution_count": 17,
     "metadata": {},
     "output_type": "execute_result"
    }
   ],
   "source": [
    "test_data_df"
   ]
  },
  {
   "cell_type": "code",
   "execution_count": 31,
   "id": "58d8186f",
   "metadata": {},
   "outputs": [
    {
     "data": {
      "text/plain": [
       "corporation            0.0\n",
       "lastmonth_activity     0.0\n",
       "lastyear_activity      0.0\n",
       "number_of_employees    0.0\n",
       "exited                 0.2\n",
       "dtype: float64"
      ]
     },
     "execution_count": 31,
     "metadata": {},
     "output_type": "execute_result"
    }
   ],
   "source": [
    "test_data_df.isna().sum()/test_data_df.shape[1]"
   ]
  },
  {
   "cell_type": "code",
   "execution_count": 50,
   "id": "d0cd6443",
   "metadata": {},
   "outputs": [],
   "source": [
    "# https://stackoverflow.com/questions/58648739/how-to-check-if-python-package-is-latest-version-programmatically\n",
    "import subprocess\n",
    "import sys\n",
    "def check_versions(name):\n",
    "    latest_version = str(subprocess.run([sys.executable, '-m', 'pip', 'install', '{}==random'.format(name)], capture_output=True, text=True))\n",
    "    latest_version = latest_version[latest_version.find('(from versions:')+15:]\n",
    "    latest_version = latest_version[:latest_version.find(')')]\n",
    "    latest_version = latest_version.replace(' ','').split(',')[-1]\n",
    "\n",
    "\n",
    "    current_version = str(subprocess.run([sys.executable, '-m', 'pip', 'show', '{}'.format(name)], capture_output=True, text=True))\n",
    "    version_pos = current_version.find('Version:')\n",
    "    if version_pos > 0:\n",
    "        current_version = current_version[version_pos+8:]\n",
    "        current_version = current_version[:current_version.find('\\\\n')].replace(' ','') \n",
    "    else:\n",
    "        current_version = 'not_installed'\n",
    "\n",
    "    return [current_version, latest_version]"
   ]
  },
  {
   "cell_type": "code",
   "execution_count": 47,
   "id": "fb707de5",
   "metadata": {},
   "outputs": [
    {
     "data": {
      "text/plain": [
       "['not installed', '0.0']"
      ]
     },
     "execution_count": 47,
     "metadata": {},
     "output_type": "execute_result"
    }
   ],
   "source": [
    "check('sklearn')"
   ]
  },
  {
   "cell_type": "code",
   "execution_count": 48,
   "id": "c7b06437",
   "metadata": {},
   "outputs": [
    {
     "name": "stdout",
     "output_type": "stream",
     "text": [
      "click\t7.1.2\t8.1.3\n",
      "cycler\t0.10.0\t0.11.0\n",
      "Flask\t1.1.2\t2.2.2\n",
      "gunicorn\t20.0.4\t20.1.0\n",
      "itsdangerous\t1.1.0\t2.1.2\n",
      "Jinja2\t2.11.3\t3.1.2\n",
      "joblib\t1.0.1\t1.1.0\n",
      "kiwisolver\t1.3.1\t1.4.4\n",
      "MarkupSafe\t1.1.1\t2.1.1\n",
      "matplotlib\t3.3.4\t3.6.0rc1\n",
      "numpy\t1.20.1\t1.23.2\n",
      "pandas\t1.2.2\t1.4.3\n",
      "Pillow\t8.1.0\t9.2.0\n",
      "pyparsing\t2.4.7\t3.0.9\n",
      "python-dateutil\t2.8.1\t2.8.2\n",
      "pytz\t2021.1\t2022.2.1\n",
      "scikit-learn\t0.24.1\t1.1.2\n",
      "scipy\t1.6.1\t1.9.0\n",
      "seaborn\t0.11.1\t0.12.0rc0\n",
      "six\t1.15.0\t1.16.0\n",
      "sklearn\tnot installed\t0.0\n",
      "threadpoolctl\t2.1.0\t3.1.0\n",
      "Werkzeug\t1.0.1\t2.2.2\n"
     ]
    }
   ],
   "source": [
    "count = 0\n",
    "with open('requirements.txt', 'rt') as f:\n",
    "    for line in f:\n",
    "        package_name = line[:line.find('==')]\n",
    "        cv, lv = check_versions(package_name)\n",
    "        print(f'{package_name}\\t{cv}\\t{lv}')\n",
    "        count += 1"
   ]
  },
  {
   "cell_type": "code",
   "execution_count": 42,
   "id": "0dde8d3c",
   "metadata": {},
   "outputs": [],
   "source": [
    "current_version = str(subprocess.run([sys.executable, '-m', 'pip', 'show', '{}'.format('sklearn')], capture_output=True, text=True))"
   ]
  },
  {
   "cell_type": "code",
   "execution_count": 43,
   "id": "5bb6c997",
   "metadata": {},
   "outputs": [
    {
     "data": {
      "text/plain": [
       "\"CompletedProcess(args=['/opt/homebrew/Caskroom/miniforge/base/envs/mldevops-c4/bin/python', '-m', 'pip', 'show', 'sklearn'], returncode=1, stdout='', stderr='WARNING: Package(s) not found: sklearn\\\\n')\""
      ]
     },
     "execution_count": 43,
     "metadata": {},
     "output_type": "execute_result"
    }
   ],
   "source": [
    "current_version"
   ]
  },
  {
   "cell_type": "code",
   "execution_count": 44,
   "id": "9b2922ca",
   "metadata": {},
   "outputs": [
    {
     "data": {
      "text/plain": [
       "-1"
      ]
     },
     "execution_count": 44,
     "metadata": {},
     "output_type": "execute_result"
    }
   ],
   "source": [
    "current_version.find('Version:')"
   ]
  },
  {
   "cell_type": "code",
   "execution_count": 51,
   "id": "dc7629f8",
   "metadata": {},
   "outputs": [],
   "source": [
    "with open('requirements.txt', 'rt') as fin, open('package_versions.txt', 'wt') as fout:\n",
    "    for line in fin:\n",
    "        package_name = line[:line.find('==')]\n",
    "        cv, lv = check_versions(package_name)\n",
    "        fout.write(f'{package_name}\\t\\t{cv}\\t{lv}\\n')"
   ]
  },
  {
   "cell_type": "code",
   "execution_count": 83,
   "id": "8aa9a2ea",
   "metadata": {},
   "outputs": [],
   "source": [
    "def model_predictions(X_test):\n",
    "\n",
    "    clf = joblib.load(os.path.join(config['output_folder_path'], 'trainedmodel.pkl'))\n",
    "    preds = clf.predict(X_test)\n",
    "\n",
    "    return preds"
   ]
  },
  {
   "cell_type": "code",
   "execution_count": 80,
   "id": "12034c09",
   "metadata": {},
   "outputs": [],
   "source": [
    "df = pd.read_csv(os.path.join(config['output_folder_path'], 'finaldata.csv'))\n",
    "X_test, y_test = process_data(df, label='exited')"
   ]
  },
  {
   "cell_type": "code",
   "execution_count": 55,
   "id": "f2e4cb6f",
   "metadata": {},
   "outputs": [],
   "source": [
    "from training import process_data"
   ]
  },
  {
   "cell_type": "code",
   "execution_count": 58,
   "id": "eed0f48c",
   "metadata": {},
   "outputs": [],
   "source": [
    "import joblib"
   ]
  },
  {
   "cell_type": "code",
   "execution_count": 84,
   "id": "727890a4",
   "metadata": {},
   "outputs": [],
   "source": [
    "preds= model_predictions(X_test)"
   ]
  },
  {
   "cell_type": "code",
   "execution_count": 79,
   "id": "084a4a29",
   "metadata": {},
   "outputs": [
    {
     "data": {
      "image/png": "[encoded data removed]",
      "text/plain": [
       "<Figure size 432x432 with 2 Axes>"
      ]
     },
     "metadata": {
      "needs_background": "light"
     },
     "output_type": "display_data"
    }
   ],
   "source": [
    "cm = confusion_matrix(preds, y_test)\n",
    "disp = ConfusionMatrixDisplay(confusion_matrix=cm, display_labels=[0, 1])\n",
    "fig, ax = plt.subplots(figsize=(6,6))\n",
    "disp.plot(ax=ax)\n",
    "plt.savefig('cm.png')"
   ]
  },
  {
   "cell_type": "code",
   "execution_count": 87,
   "id": "fbcad665",
   "metadata": {},
   "outputs": [
    {
     "name": "stdout",
     "output_type": "stream",
     "text": [
      "10.12\n"
     ]
    }
   ],
   "source": [
    "print(f'{10.1234:.2f}')"
   ]
  },
  {
   "cell_type": "code",
   "execution_count": 88,
   "id": "6c3c37e8",
   "metadata": {},
   "outputs": [],
   "source": [
    "import subprocess"
   ]
  },
  {
   "cell_type": "code",
   "execution_count": 94,
   "id": "bf2dab02",
   "metadata": {},
   "outputs": [
    {
     "data": {
      "text/plain": [
       "'0.76'"
      ]
     },
     "execution_count": 94,
     "metadata": {},
     "output_type": "execute_result"
    }
   ],
   "source": [
    "subprocess.run(['curl', '127.0.0.1:8000/scoring'], capture_output=True).stdout.decode()"
   ]
  },
  {
   "cell_type": "code",
   "execution_count": 97,
   "id": "9907d48a",
   "metadata": {},
   "outputs": [],
   "source": [
    "response3 = subprocess.run(['curl', '-X', 'POST', '127.0.0.1:8000/prediction?filename=testdata/testdata.csv'],\n",
    "                           capture_output=True).stdout.decode()"
   ]
  },
  {
   "cell_type": "code",
   "execution_count": 98,
   "id": "168e0f35",
   "metadata": {},
   "outputs": [
    {
     "data": {
      "text/plain": [
       "'[0 1 1 1 1]'"
      ]
     },
     "execution_count": 98,
     "metadata": {},
     "output_type": "execute_result"
    }
   ],
   "source": [
    "response3"
   ]
  },
  {
   "cell_type": "code",
   "execution_count": 99,
   "id": "c27a389c",
   "metadata": {},
   "outputs": [
    {
     "data": {
      "text/plain": [
       "'<pre>Ingestion time: 4.30</pre><br><pre>Training time: 5.67<br><pre>Missing values: corporation            0.0\\nlastmonth_activity     0.0\\nlastyear_activity      0.0\\nnumber_of_employees    0.0\\nexited                 0.0\\ndtype: float64</pre><br><pre>click\\t\\t7.1.2\\t8.1.3\\ncycler\\t\\t0.10.0\\t0.11.0\\nFlask\\t\\t1.1.2\\t2.2.2\\ngunicorn\\t\\t20.0.4\\t20.1.0\\nitsdangerous\\t\\t1.1.0\\t2.1.2\\nJinja2\\t\\t2.11.3\\t3.1.2\\njoblib\\t\\t1.0.1\\t1.1.0\\nkiwisolver\\t\\t1.3.1\\t1.4.4\\nMarkupSafe\\t\\t1.1.1\\t2.1.1\\nmatplotlib\\t\\t3.3.4\\t3.6.0rc1\\nnumpy\\t\\t1.20.1\\t1.23.2\\npandas\\t\\t1.2.2\\t1.4.3\\nPillow\\t\\t8.1.0\\t9.2.0\\npyparsing\\t\\t2.4.7\\t3.0.9\\npython-dateutil\\t\\t2.8.1\\t2.8.2\\npytz\\t\\t2021.1\\t2022.2.1\\nscikit-learn\\t\\t0.24.1\\t1.1.2\\nscipy\\t\\t1.6.1\\t1.9.0\\nseaborn\\t\\t0.11.1\\t0.12.0rc0\\nsix\\t\\t1.15.0\\t1.16.0\\nsklearn\\t\\tnot_installed\\t0.0\\nthreadpoolctl\\t\\t2.1.0\\t3.1.0\\nWerkzeug\\t\\t1.0.1\\t2.2.2\\n</pre>'"
      ]
     },
     "execution_count": 99,
     "metadata": {},
     "output_type": "execute_result"
    }
   ],
   "source": [
    "subprocess.run(['curl', '127.0.0.1:8000/diagnostics'], capture_output=True).stdout.decode()"
   ]
  },
  {
   "cell_type": "code",
   "execution_count": 115,
   "id": "577cf9af",
   "metadata": {},
   "outputs": [
    {
     "ename": "ImportError",
     "evalue": "cannot import name 'new_input_found' from 'fullprocess' (/Users/irina/Library/Mobile Documents/com~apple~CloudDocs/Workspace/mldevops-c4/fullprocess.py)",
     "output_type": "error",
     "traceback": [
      "\u001b[0;31m---------------------------------------------------------------------------\u001b[0m",
      "\u001b[0;31mImportError\u001b[0m                               Traceback (most recent call last)",
      "Input \u001b[0;32mIn [115]\u001b[0m, in \u001b[0;36m<cell line: 1>\u001b[0;34m()\u001b[0m\n\u001b[0;32m----> 1\u001b[0m \u001b[38;5;28;01mfrom\u001b[39;00m \u001b[38;5;21;01mfullprocess\u001b[39;00m \u001b[38;5;28;01mimport\u001b[39;00m new_input_found\n",
      "\u001b[0;31mImportError\u001b[0m: cannot import name 'new_input_found' from 'fullprocess' (/Users/irina/Library/Mobile Documents/com~apple~CloudDocs/Workspace/mldevops-c4/fullprocess.py)"
     ]
    }
   ],
   "source": [
    "from fullprocess import new_input_found"
   ]
  },
  {
   "cell_type": "code",
   "execution_count": 110,
   "id": "765630e3",
   "metadata": {},
   "outputs": [
    {
     "data": {
      "text/plain": [
       "True"
      ]
     },
     "execution_count": 110,
     "metadata": {},
     "output_type": "execute_result"
    }
   ],
   "source": [
    "new_input_check('practicedata/dataset2.csv')"
   ]
  },
  {
   "cell_type": "code",
   "execution_count": 120,
   "id": "74e061ee",
   "metadata": {},
   "outputs": [
    {
     "name": "stdout",
     "output_type": "stream",
     "text": [
      "0.76470\n"
     ]
    }
   ],
   "source": [
    "with open('production_deployment/latestscore.txt') as f:\n",
    "    score = float(f.readline())\n",
    "    print(f'{score:.5f}')"
   ]
  },
  {
   "cell_type": "code",
   "execution_count": null,
   "id": "8b7b5b38",
   "metadata": {},
   "outputs": [],
   "source": [
    "glob.glob(pathname=os.path.join('sourcedata', '*.csv'))"
   ]
  }
 ],
 "metadata": {
  "kernelspec": {
   "display_name": "Python 3 (ipykernel)",
   "language": "python",
   "name": "python3"
  },
  "language_info": {
   "codemirror_mode": {
    "name": "ipython",
    "version": 3
   },
   "file_extension": ".py",
   "mimetype": "text/x-python",
   "name": "python",
   "nbconvert_exporter": "python",
   "pygments_lexer": "ipython3",
   "version": "3.8.13"
  }
 },
 "nbformat": 4,
 "nbformat_minor": 5
}

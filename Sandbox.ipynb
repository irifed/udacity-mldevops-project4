{
 "cells": [
  {
   "cell_type": "code",
   "execution_count": 2,
   "id": "2c3379ad",
   "metadata": {
    "pycharm": {
     "name": "#%%\n"
    }
   },
   "outputs": [],
   "source": [
    "import sys\n",
    "sys.path.append('.')"
   ]
  },
  {
   "cell_type": "code",
   "execution_count": 3,
   "id": "c4eeee13",
   "metadata": {
    "pycharm": {
     "name": "#%%\n"
    }
   },
   "outputs": [],
   "source": [
    "import os\n",
    "import glob\n",
    "import json"
   ]
  },
  {
   "cell_type": "code",
   "execution_count": 4,
   "id": "3009de4c",
   "metadata": {
    "pycharm": {
     "name": "#%%\n"
    }
   },
   "outputs": [],
   "source": [
    "import pandas as pd"
   ]
  },
  {
   "cell_type": "code",
   "execution_count": 5,
   "id": "3c90b73e",
   "metadata": {
    "pycharm": {
     "name": "#%%\n"
    }
   },
   "outputs": [],
   "source": [
    "with open('config.json', 'r') as f:\n",
    "    config = json.load(f) \n",
    "\n",
    "input_folder_path = config['input_folder_path']\n",
    "output_folder_path = config['output_folder_path']"
   ]
  },
  {
   "cell_type": "code",
   "execution_count": 6,
   "id": "b01f0143",
   "metadata": {
    "pycharm": {
     "name": "#%%\n"
    }
   },
   "outputs": [],
   "source": [
    "ingested_f = open(os.path.join(output_folder_path, 'ingestedfiles.txt'), 'w')\n",
    "\n",
    "full_df = pd.DataFrame()\n",
    "for csv_f in glob.glob(pathname='practicedata/*.csv'):\n",
    "    df = pd.read_csv(csv_f)\n",
    "    full_df = pd.concat([full_df, df], axis=0, ignore_index=True)\n",
    "    ingested_f.write(f'{csv_f}\\n')\n",
    "    \n",
    "ingested_f.close()\n",
    "\n",
    "full_df = full_df.drop_duplicates(ignore_index=True)\n",
    "full_df.to_csv(os.path.join(output_folder_path, 'finaldata.csv'), index=False)"
   ]
  },
  {
   "cell_type": "code",
   "execution_count": 7,
   "id": "567f82b3",
   "metadata": {
    "pycharm": {
     "name": "#%%\n"
    }
   },
   "outputs": [
    {
     "data": {
      "text/html": [
       "<div>\n",
       "<style scoped>\n",
       "    .dataframe tbody tr th:only-of-type {\n",
       "        vertical-align: middle;\n",
       "    }\n",
       "\n",
       "    .dataframe tbody tr th {\n",
       "        vertical-align: top;\n",
       "    }\n",
       "\n",
       "    .dataframe thead th {\n",
       "        text-align: right;\n",
       "    }\n",
       "</style>\n",
       "<table border=\"1\" class=\"dataframe\">\n",
       "  <thead>\n",
       "    <tr style=\"text-align: right;\">\n",
       "      <th></th>\n",
       "      <th>corporation</th>\n",
       "      <th>lastmonth_activity</th>\n",
       "      <th>lastyear_activity</th>\n",
       "      <th>number_of_employees</th>\n",
       "      <th>exited</th>\n",
       "    </tr>\n",
       "  </thead>\n",
       "  <tbody>\n",
       "    <tr>\n",
       "      <th>0</th>\n",
       "      <td>nciw</td>\n",
       "      <td>100</td>\n",
       "      <td>1359</td>\n",
       "      <td>1</td>\n",
       "      <td>0</td>\n",
       "    </tr>\n",
       "    <tr>\n",
       "      <th>1</th>\n",
       "      <td>lsid</td>\n",
       "      <td>68</td>\n",
       "      <td>282</td>\n",
       "      <td>14</td>\n",
       "      <td>0</td>\n",
       "    </tr>\n",
       "    <tr>\n",
       "      <th>2</th>\n",
       "      <td>pwls</td>\n",
       "      <td>71</td>\n",
       "      <td>949</td>\n",
       "      <td>40</td>\n",
       "      <td>1</td>\n",
       "    </tr>\n",
       "    <tr>\n",
       "      <th>3</th>\n",
       "      <td>bqlx</td>\n",
       "      <td>686</td>\n",
       "      <td>3782</td>\n",
       "      <td>103</td>\n",
       "      <td>0</td>\n",
       "    </tr>\n",
       "    <tr>\n",
       "      <th>4</th>\n",
       "      <td>zmei</td>\n",
       "      <td>45</td>\n",
       "      <td>655</td>\n",
       "      <td>7</td>\n",
       "      <td>0</td>\n",
       "    </tr>\n",
       "    <tr>\n",
       "      <th>5</th>\n",
       "      <td>wosl</td>\n",
       "      <td>0</td>\n",
       "      <td>18</td>\n",
       "      <td>21</td>\n",
       "      <td>1</td>\n",
       "    </tr>\n",
       "    <tr>\n",
       "      <th>6</th>\n",
       "      <td>xcvb</td>\n",
       "      <td>189</td>\n",
       "      <td>961</td>\n",
       "      <td>18</td>\n",
       "      <td>1</td>\n",
       "    </tr>\n",
       "    <tr>\n",
       "      <th>7</th>\n",
       "      <td>dfgh</td>\n",
       "      <td>16</td>\n",
       "      <td>1028</td>\n",
       "      <td>33</td>\n",
       "      <td>0</td>\n",
       "    </tr>\n",
       "    <tr>\n",
       "      <th>8</th>\n",
       "      <td>ngrd</td>\n",
       "      <td>9</td>\n",
       "      <td>45</td>\n",
       "      <td>1</td>\n",
       "      <td>1</td>\n",
       "    </tr>\n",
       "    <tr>\n",
       "      <th>9</th>\n",
       "      <td>xful</td>\n",
       "      <td>0</td>\n",
       "      <td>67</td>\n",
       "      <td>14</td>\n",
       "      <td>1</td>\n",
       "    </tr>\n",
       "    <tr>\n",
       "      <th>10</th>\n",
       "      <td>kshe</td>\n",
       "      <td>48</td>\n",
       "      <td>986</td>\n",
       "      <td>22</td>\n",
       "      <td>1</td>\n",
       "    </tr>\n",
       "    <tr>\n",
       "      <th>11</th>\n",
       "      <td>qqqq</td>\n",
       "      <td>52</td>\n",
       "      <td>650</td>\n",
       "      <td>11</td>\n",
       "      <td>1</td>\n",
       "    </tr>\n",
       "    <tr>\n",
       "      <th>12</th>\n",
       "      <td>corp</td>\n",
       "      <td>1090</td>\n",
       "      <td>2452</td>\n",
       "      <td>9</td>\n",
       "      <td>0</td>\n",
       "    </tr>\n",
       "    <tr>\n",
       "      <th>13</th>\n",
       "      <td>ekci</td>\n",
       "      <td>6</td>\n",
       "      <td>88</td>\n",
       "      <td>90</td>\n",
       "      <td>1</td>\n",
       "    </tr>\n",
       "    <tr>\n",
       "      <th>14</th>\n",
       "      <td>dosk</td>\n",
       "      <td>99</td>\n",
       "      <td>390</td>\n",
       "      <td>99</td>\n",
       "      <td>1</td>\n",
       "    </tr>\n",
       "    <tr>\n",
       "      <th>15</th>\n",
       "      <td>endi</td>\n",
       "      <td>75</td>\n",
       "      <td>800</td>\n",
       "      <td>81</td>\n",
       "      <td>1</td>\n",
       "    </tr>\n",
       "    <tr>\n",
       "      <th>16</th>\n",
       "      <td>gudj</td>\n",
       "      <td>255</td>\n",
       "      <td>1687</td>\n",
       "      <td>2</td>\n",
       "      <td>0</td>\n",
       "    </tr>\n",
       "    <tr>\n",
       "      <th>17</th>\n",
       "      <td>abcd</td>\n",
       "      <td>78</td>\n",
       "      <td>1024</td>\n",
       "      <td>12</td>\n",
       "      <td>1</td>\n",
       "    </tr>\n",
       "    <tr>\n",
       "      <th>18</th>\n",
       "      <td>asdf</td>\n",
       "      <td>14</td>\n",
       "      <td>2145</td>\n",
       "      <td>20</td>\n",
       "      <td>0</td>\n",
       "    </tr>\n",
       "    <tr>\n",
       "      <th>19</th>\n",
       "      <td>xyzz</td>\n",
       "      <td>182</td>\n",
       "      <td>3891</td>\n",
       "      <td>35</td>\n",
       "      <td>0</td>\n",
       "    </tr>\n",
       "    <tr>\n",
       "      <th>20</th>\n",
       "      <td>acme</td>\n",
       "      <td>101</td>\n",
       "      <td>10983</td>\n",
       "      <td>2</td>\n",
       "      <td>1</td>\n",
       "    </tr>\n",
       "    <tr>\n",
       "      <th>21</th>\n",
       "      <td>qwer</td>\n",
       "      <td>0</td>\n",
       "      <td>118</td>\n",
       "      <td>42</td>\n",
       "      <td>1</td>\n",
       "    </tr>\n",
       "    <tr>\n",
       "      <th>22</th>\n",
       "      <td>tyui</td>\n",
       "      <td>929</td>\n",
       "      <td>1992</td>\n",
       "      <td>1</td>\n",
       "      <td>0</td>\n",
       "    </tr>\n",
       "    <tr>\n",
       "      <th>23</th>\n",
       "      <td>zxcv</td>\n",
       "      <td>19</td>\n",
       "      <td>455</td>\n",
       "      <td>8</td>\n",
       "      <td>1</td>\n",
       "    </tr>\n",
       "    <tr>\n",
       "      <th>24</th>\n",
       "      <td>hjkl</td>\n",
       "      <td>94</td>\n",
       "      <td>868</td>\n",
       "      <td>3</td>\n",
       "      <td>1</td>\n",
       "    </tr>\n",
       "    <tr>\n",
       "      <th>25</th>\n",
       "      <td>lmno</td>\n",
       "      <td>81</td>\n",
       "      <td>1401</td>\n",
       "      <td>10</td>\n",
       "      <td>0</td>\n",
       "    </tr>\n",
       "  </tbody>\n",
       "</table>\n",
       "</div>"
      ],
      "text/plain": [
       "   corporation  lastmonth_activity  lastyear_activity  number_of_employees  \\\n",
       "0         nciw                 100               1359                    1   \n",
       "1         lsid                  68                282                   14   \n",
       "2         pwls                  71                949                   40   \n",
       "3         bqlx                 686               3782                  103   \n",
       "4         zmei                  45                655                    7   \n",
       "5         wosl                   0                 18                   21   \n",
       "6         xcvb                 189                961                   18   \n",
       "7         dfgh                  16               1028                   33   \n",
       "8         ngrd                   9                 45                    1   \n",
       "9         xful                   0                 67                   14   \n",
       "10        kshe                  48                986                   22   \n",
       "11        qqqq                  52                650                   11   \n",
       "12        corp                1090               2452                    9   \n",
       "13        ekci                   6                 88                   90   \n",
       "14        dosk                  99                390                   99   \n",
       "15        endi                  75                800                   81   \n",
       "16        gudj                 255               1687                    2   \n",
       "17        abcd                  78               1024                   12   \n",
       "18        asdf                  14               2145                   20   \n",
       "19        xyzz                 182               3891                   35   \n",
       "20        acme                 101              10983                    2   \n",
       "21        qwer                   0                118                   42   \n",
       "22        tyui                 929               1992                    1   \n",
       "23        zxcv                  19                455                    8   \n",
       "24        hjkl                  94                868                    3   \n",
       "25        lmno                  81               1401                   10   \n",
       "\n",
       "    exited  \n",
       "0        0  \n",
       "1        0  \n",
       "2        1  \n",
       "3        0  \n",
       "4        0  \n",
       "5        1  \n",
       "6        1  \n",
       "7        0  \n",
       "8        1  \n",
       "9        1  \n",
       "10       1  \n",
       "11       1  \n",
       "12       0  \n",
       "13       1  \n",
       "14       1  \n",
       "15       1  \n",
       "16       0  \n",
       "17       1  \n",
       "18       0  \n",
       "19       0  \n",
       "20       1  \n",
       "21       1  \n",
       "22       0  \n",
       "23       1  \n",
       "24       1  \n",
       "25       0  "
      ]
     },
     "execution_count": 7,
     "metadata": {},
     "output_type": "execute_result"
    }
   ],
   "source": [
    "full_df"
   ]
  },
  {
   "cell_type": "code",
   "execution_count": null,
   "id": "784e97c5",
   "metadata": {
    "pycharm": {
     "name": "#%%\n"
    }
   },
   "outputs": [],
   "source": [
    "keep_cols = [\n",
    "    'lastmonth_activity',\n",
    "    'lastyear_activity',\n",
    "    'number_of_employees'\n",
    "]"
   ]
  },
  {
   "cell_type": "code",
   "execution_count": null,
   "id": "cfc64b84",
   "metadata": {
    "pycharm": {
     "name": "#%%\n"
    }
   },
   "outputs": [],
   "source": [
    "full_df[keep_cols]"
   ]
  },
  {
   "cell_type": "code",
   "execution_count": null,
   "id": "ab5e481c",
   "metadata": {
    "pycharm": {
     "name": "#%%\n"
    }
   },
   "outputs": [],
   "source": [
    "df = pd.read_csv(os.path.join(config['output_folder_path'], 'finaldata.csv'))"
   ]
  },
  {
   "cell_type": "code",
   "execution_count": null,
   "id": "21df23fc",
   "metadata": {
    "pycharm": {
     "name": "#%%\n"
    }
   },
   "outputs": [],
   "source": [
    "from training import process_data"
   ]
  },
  {
   "cell_type": "code",
   "execution_count": null,
   "id": "f4d70bb0",
   "metadata": {
    "pycharm": {
     "name": "#%%\n"
    }
   },
   "outputs": [],
   "source": [
    "X_full, y_full = process_data(df, label='exited')"
   ]
  },
  {
   "cell_type": "code",
   "execution_count": null,
   "id": "9f8d927d",
   "metadata": {
    "pycharm": {
     "name": "#%%\n"
    }
   },
   "outputs": [],
   "source": [
    "X_full.dtypes"
   ]
  },
  {
   "cell_type": "code",
   "execution_count": null,
   "id": "283305c9",
   "metadata": {
    "pycharm": {
     "name": "#%%\n"
    }
   },
   "outputs": [],
   "source": [
    "y_full.unique()"
   ]
  },
  {
   "cell_type": "code",
   "execution_count": null,
   "id": "c37b44da",
   "metadata": {
    "pycharm": {
     "name": "#%%\n"
    }
   },
   "outputs": [],
   "source": [
    "y_full.dtypes"
   ]
  },
  {
   "cell_type": "code",
   "execution_count": null,
   "id": "642e8ea2",
   "metadata": {
    "pycharm": {
     "name": "#%%\n"
    }
   },
   "outputs": [],
   "source": [
    "X_full.describe()"
   ]
  },
  {
   "cell_type": "code",
   "execution_count": null,
   "id": "89f8d6b2",
   "metadata": {},
   "outputs": [],
   "source": [
    "full_df.describe()"
   ]
  },
  {
   "cell_type": "code",
   "execution_count": 26,
   "id": "b0301f2c",
   "metadata": {},
   "outputs": [],
   "source": [
    "import numpy as np"
   ]
  },
  {
   "cell_type": "code",
   "execution_count": 30,
   "id": "bfda6290",
   "metadata": {
    "pycharm": {
     "name": "#%%\n"
    }
   },
   "outputs": [
    {
     "data": {
      "text/html": [
       "<div>\n",
       "<style scoped>\n",
       "    .dataframe tbody tr th:only-of-type {\n",
       "        vertical-align: middle;\n",
       "    }\n",
       "\n",
       "    .dataframe tbody tr th {\n",
       "        vertical-align: top;\n",
       "    }\n",
       "\n",
       "    .dataframe thead th {\n",
       "        text-align: right;\n",
       "    }\n",
       "</style>\n",
       "<table border=\"1\" class=\"dataframe\">\n",
       "  <thead>\n",
       "    <tr style=\"text-align: right;\">\n",
       "      <th></th>\n",
       "      <th>lastmonth_activity</th>\n",
       "      <th>lastyear_activity</th>\n",
       "      <th>number_of_employees</th>\n",
       "      <th>exited</th>\n",
       "    </tr>\n",
       "  </thead>\n",
       "  <tbody>\n",
       "    <tr>\n",
       "      <th>std</th>\n",
       "      <td>284.033229</td>\n",
       "      <td>2192.644958</td>\n",
       "      <td>31.353886</td>\n",
       "      <td>0.503831</td>\n",
       "    </tr>\n",
       "    <tr>\n",
       "      <th>mean</th>\n",
       "      <td>165.653846</td>\n",
       "      <td>1502.923077</td>\n",
       "      <td>26.884615</td>\n",
       "      <td>0.576923</td>\n",
       "    </tr>\n",
       "    <tr>\n",
       "      <th>50%</th>\n",
       "      <td>73.000000</td>\n",
       "      <td>955.000000</td>\n",
       "      <td>14.000000</td>\n",
       "      <td>1.000000</td>\n",
       "    </tr>\n",
       "  </tbody>\n",
       "</table>\n",
       "</div>"
      ],
      "text/plain": [
       "      lastmonth_activity  lastyear_activity  number_of_employees    exited\n",
       "std           284.033229        2192.644958            31.353886  0.503831\n",
       "mean          165.653846        1502.923077            26.884615  0.576923\n",
       "50%            73.000000         955.000000            14.000000  1.000000"
      ]
     },
     "execution_count": 30,
     "metadata": {},
     "output_type": "execute_result"
    }
   ],
   "source": [
    "full_df.describe(include=np.number).loc[['std', 'mean', '50%']]"
   ]
  },
  {
   "cell_type": "code",
   "execution_count": null,
   "id": "0d7bf9aa",
   "metadata": {
    "pycharm": {
     "name": "#%%\n"
    }
   },
   "outputs": [],
   "source": [
    "full_df.info()"
   ]
  },
  {
   "cell_type": "code",
   "execution_count": null,
   "id": "10e32bce",
   "metadata": {},
   "outputs": [],
   "source": [
    "full_df.shape"
   ]
  },
  {
   "cell_type": "code",
   "execution_count": 8,
   "id": "08541d0c",
   "metadata": {},
   "outputs": [],
   "source": [
    "test_data_df = pd.read_csv('testdata/testdata.csv')"
   ]
  },
  {
   "cell_type": "code",
   "execution_count": 10,
   "id": "8e36be99",
   "metadata": {},
   "outputs": [
    {
     "data": {
      "text/html": [
       "<div>\n",
       "<style scoped>\n",
       "    .dataframe tbody tr th:only-of-type {\n",
       "        vertical-align: middle;\n",
       "    }\n",
       "\n",
       "    .dataframe tbody tr th {\n",
       "        vertical-align: top;\n",
       "    }\n",
       "\n",
       "    .dataframe thead th {\n",
       "        text-align: right;\n",
       "    }\n",
       "</style>\n",
       "<table border=\"1\" class=\"dataframe\">\n",
       "  <thead>\n",
       "    <tr style=\"text-align: right;\">\n",
       "      <th></th>\n",
       "      <th>corporation</th>\n",
       "      <th>lastmonth_activity</th>\n",
       "      <th>lastyear_activity</th>\n",
       "      <th>number_of_employees</th>\n",
       "      <th>exited</th>\n",
       "    </tr>\n",
       "  </thead>\n",
       "  <tbody>\n",
       "    <tr>\n",
       "      <th>0</th>\n",
       "      <td>werf</td>\n",
       "      <td>234</td>\n",
       "      <td>3</td>\n",
       "      <td>10</td>\n",
       "      <td>1</td>\n",
       "    </tr>\n",
       "    <tr>\n",
       "      <th>1</th>\n",
       "      <td>sdfv</td>\n",
       "      <td>14</td>\n",
       "      <td>2145</td>\n",
       "      <td>99</td>\n",
       "      <td>0</td>\n",
       "    </tr>\n",
       "    <tr>\n",
       "      <th>2</th>\n",
       "      <td>edcv</td>\n",
       "      <td>34</td>\n",
       "      <td>333</td>\n",
       "      <td>1000</td>\n",
       "      <td>0</td>\n",
       "    </tr>\n",
       "    <tr>\n",
       "      <th>3</th>\n",
       "      <td>uhgr</td>\n",
       "      <td>101</td>\n",
       "      <td>12346</td>\n",
       "      <td>2</td>\n",
       "      <td>1</td>\n",
       "    </tr>\n",
       "    <tr>\n",
       "      <th>4</th>\n",
       "      <td>okjh</td>\n",
       "      <td>0</td>\n",
       "      <td>675</td>\n",
       "      <td>25</td>\n",
       "      <td>1</td>\n",
       "    </tr>\n",
       "  </tbody>\n",
       "</table>\n",
       "</div>"
      ],
      "text/plain": [
       "  corporation  lastmonth_activity  lastyear_activity  number_of_employees  \\\n",
       "0        werf                 234                  3                   10   \n",
       "1        sdfv                  14               2145                   99   \n",
       "2        edcv                  34                333                 1000   \n",
       "3        uhgr                 101              12346                    2   \n",
       "4        okjh                   0                675                   25   \n",
       "\n",
       "   exited  \n",
       "0       1  \n",
       "1       0  \n",
       "2       0  \n",
       "3       1  \n",
       "4       1  "
      ]
     },
     "execution_count": 10,
     "metadata": {},
     "output_type": "execute_result"
    }
   ],
   "source": [
    "test_data_df"
   ]
  },
  {
   "cell_type": "code",
   "execution_count": 16,
   "id": "21e5709f",
   "metadata": {},
   "outputs": [],
   "source": [
    "test_data_df.loc[1, 'exited'] = None"
   ]
  },
  {
   "cell_type": "code",
   "execution_count": 17,
   "id": "4cdd53ab",
   "metadata": {},
   "outputs": [
    {
     "data": {
      "text/html": [
       "<div>\n",
       "<style scoped>\n",
       "    .dataframe tbody tr th:only-of-type {\n",
       "        vertical-align: middle;\n",
       "    }\n",
       "\n",
       "    .dataframe tbody tr th {\n",
       "        vertical-align: top;\n",
       "    }\n",
       "\n",
       "    .dataframe thead th {\n",
       "        text-align: right;\n",
       "    }\n",
       "</style>\n",
       "<table border=\"1\" class=\"dataframe\">\n",
       "  <thead>\n",
       "    <tr style=\"text-align: right;\">\n",
       "      <th></th>\n",
       "      <th>corporation</th>\n",
       "      <th>lastmonth_activity</th>\n",
       "      <th>lastyear_activity</th>\n",
       "      <th>number_of_employees</th>\n",
       "      <th>exited</th>\n",
       "    </tr>\n",
       "  </thead>\n",
       "  <tbody>\n",
       "    <tr>\n",
       "      <th>0</th>\n",
       "      <td>werf</td>\n",
       "      <td>234</td>\n",
       "      <td>3</td>\n",
       "      <td>10</td>\n",
       "      <td>1.0</td>\n",
       "    </tr>\n",
       "    <tr>\n",
       "      <th>1</th>\n",
       "      <td>sdfv</td>\n",
       "      <td>14</td>\n",
       "      <td>2145</td>\n",
       "      <td>99</td>\n",
       "      <td>NaN</td>\n",
       "    </tr>\n",
       "    <tr>\n",
       "      <th>2</th>\n",
       "      <td>edcv</td>\n",
       "      <td>34</td>\n",
       "      <td>333</td>\n",
       "      <td>1000</td>\n",
       "      <td>0.0</td>\n",
       "    </tr>\n",
       "    <tr>\n",
       "      <th>3</th>\n",
       "      <td>uhgr</td>\n",
       "      <td>101</td>\n",
       "      <td>12346</td>\n",
       "      <td>2</td>\n",
       "      <td>1.0</td>\n",
       "    </tr>\n",
       "    <tr>\n",
       "      <th>4</th>\n",
       "      <td>okjh</td>\n",
       "      <td>0</td>\n",
       "      <td>675</td>\n",
       "      <td>25</td>\n",
       "      <td>1.0</td>\n",
       "    </tr>\n",
       "  </tbody>\n",
       "</table>\n",
       "</div>"
      ],
      "text/plain": [
       "  corporation  lastmonth_activity  lastyear_activity  number_of_employees  \\\n",
       "0        werf                 234                  3                   10   \n",
       "1        sdfv                  14               2145                   99   \n",
       "2        edcv                  34                333                 1000   \n",
       "3        uhgr                 101              12346                    2   \n",
       "4        okjh                   0                675                   25   \n",
       "\n",
       "   exited  \n",
       "0     1.0  \n",
       "1     NaN  \n",
       "2     0.0  \n",
       "3     1.0  \n",
       "4     1.0  "
      ]
     },
     "execution_count": 17,
     "metadata": {},
     "output_type": "execute_result"
    }
   ],
   "source": [
    "test_data_df"
   ]
  },
  {
   "cell_type": "code",
   "execution_count": 31,
   "id": "46e5ccd9",
   "metadata": {},
   "outputs": [
    {
     "data": {
      "text/plain": [
       "corporation            0.0\n",
       "lastmonth_activity     0.0\n",
       "lastyear_activity      0.0\n",
       "number_of_employees    0.0\n",
       "exited                 0.2\n",
       "dtype: float64"
      ]
     },
     "execution_count": 31,
     "metadata": {},
     "output_type": "execute_result"
    }
   ],
   "source": [
    "test_data_df.isna().sum()/test_data_df.shape[1]"
   ]
  },
  {
   "cell_type": "code",
   "execution_count": 50,
   "id": "8091cecb",
   "metadata": {},
   "outputs": [],
   "source": [
    "# https://stackoverflow.com/questions/58648739/how-to-check-if-python-package-is-latest-version-programmatically\n",
    "import subprocess\n",
    "import sys\n",
    "def check_versions(name):\n",
    "    latest_version = str(subprocess.run([sys.executable, '-m', 'pip', 'install', '{}==random'.format(name)], capture_output=True, text=True))\n",
    "    latest_version = latest_version[latest_version.find('(from versions:')+15:]\n",
    "    latest_version = latest_version[:latest_version.find(')')]\n",
    "    latest_version = latest_version.replace(' ','').split(',')[-1]\n",
    "\n",
    "\n",
    "    current_version = str(subprocess.run([sys.executable, '-m', 'pip', 'show', '{}'.format(name)], capture_output=True, text=True))\n",
    "    version_pos = current_version.find('Version:')\n",
    "    if version_pos > 0:\n",
    "        current_version = current_version[version_pos+8:]\n",
    "        current_version = current_version[:current_version.find('\\\\n')].replace(' ','') \n",
    "    else:\n",
    "        current_version = 'not_installed'\n",
    "\n",
    "    return [current_version, latest_version]"
   ]
  },
  {
   "cell_type": "code",
   "execution_count": 47,
   "id": "5726d662",
   "metadata": {},
   "outputs": [
    {
     "data": {
      "text/plain": [
       "['not installed', '0.0']"
      ]
     },
     "execution_count": 47,
     "metadata": {},
     "output_type": "execute_result"
    }
   ],
   "source": [
    "check('sklearn')"
   ]
  },
  {
   "cell_type": "code",
   "execution_count": 48,
   "id": "d66c240d",
   "metadata": {},
   "outputs": [
    {
     "name": "stdout",
     "output_type": "stream",
     "text": [
      "click\t7.1.2\t8.1.3\n",
      "cycler\t0.10.0\t0.11.0\n",
      "Flask\t1.1.2\t2.2.2\n",
      "gunicorn\t20.0.4\t20.1.0\n",
      "itsdangerous\t1.1.0\t2.1.2\n",
      "Jinja2\t2.11.3\t3.1.2\n",
      "joblib\t1.0.1\t1.1.0\n",
      "kiwisolver\t1.3.1\t1.4.4\n",
      "MarkupSafe\t1.1.1\t2.1.1\n",
      "matplotlib\t3.3.4\t3.6.0rc1\n",
      "numpy\t1.20.1\t1.23.2\n",
      "pandas\t1.2.2\t1.4.3\n",
      "Pillow\t8.1.0\t9.2.0\n",
      "pyparsing\t2.4.7\t3.0.9\n",
      "python-dateutil\t2.8.1\t2.8.2\n",
      "pytz\t2021.1\t2022.2.1\n",
      "scikit-learn\t0.24.1\t1.1.2\n",
      "scipy\t1.6.1\t1.9.0\n",
      "seaborn\t0.11.1\t0.12.0rc0\n",
      "six\t1.15.0\t1.16.0\n",
      "sklearn\tnot installed\t0.0\n",
      "threadpoolctl\t2.1.0\t3.1.0\n",
      "Werkzeug\t1.0.1\t2.2.2\n"
     ]
    }
   ],
   "source": [
    "count = 0\n",
    "with open('requirements.txt', 'rt') as f:\n",
    "    for line in f:\n",
    "        package_name = line[:line.find('==')]\n",
    "        cv, lv = check_versions(package_name)\n",
    "        print(f'{package_name}\\t{cv}\\t{lv}')\n",
    "        count += 1"
   ]
  },
  {
   "cell_type": "code",
   "execution_count": 42,
   "id": "8065285f",
   "metadata": {},
   "outputs": [],
   "source": [
    "current_version = str(subprocess.run([sys.executable, '-m', 'pip', 'show', '{}'.format('sklearn')], capture_output=True, text=True))"
   ]
  },
  {
   "cell_type": "code",
   "execution_count": 43,
   "id": "f884f9ce",
   "metadata": {},
   "outputs": [
    {
     "data": {
      "text/plain": [
       "\"CompletedProcess(args=['/opt/homebrew/Caskroom/miniforge/base/envs/mldevops-c4/bin/python', '-m', 'pip', 'show', 'sklearn'], returncode=1, stdout='', stderr='WARNING: Package(s) not found: sklearn\\\\n')\""
      ]
     },
     "execution_count": 43,
     "metadata": {},
     "output_type": "execute_result"
    }
   ],
   "source": [
    "current_version"
   ]
  },
  {
   "cell_type": "code",
   "execution_count": 44,
   "id": "4febc768",
   "metadata": {},
   "outputs": [
    {
     "data": {
      "text/plain": [
       "-1"
      ]
     },
     "execution_count": 44,
     "metadata": {},
     "output_type": "execute_result"
    }
   ],
   "source": [
    "current_version.find('Version:')"
   ]
  },
  {
   "cell_type": "code",
   "execution_count": 51,
   "id": "453a4d49",
   "metadata": {},
   "outputs": [],
   "source": [
    "with open('requirements.txt', 'rt') as fin, open('package_versions.txt', 'wt') as fout:\n",
    "    for line in fin:\n",
    "        package_name = line[:line.find('==')]\n",
    "        cv, lv = check_versions(package_name)\n",
    "        fout.write(f'{package_name}\\t\\t{cv}\\t{lv}\\n')"
   ]
  },
  {
   "cell_type": "code",
   "execution_count": 52,
   "id": "3731d0ad",
   "metadata": {},
   "outputs": [
    {
     "name": "stdout",
     "output_type": "stream",
     "text": [
      "Sandbox.ipynb         fullprocess.py        requirements.txt\n",
      "\u001b[1m\u001b[36m__pycache__\u001b[m\u001b[m           \u001b[1m\u001b[36mingesteddata\u001b[m\u001b[m          scoring.py\n",
      "apicalls.py           ingestion.py          \u001b[1m\u001b[36msourcedata\u001b[m\u001b[m\n",
      "app.py                package_versions.txt  starter-file.zip\n",
      "config.json           \u001b[1m\u001b[36mpracticedata\u001b[m\u001b[m          \u001b[1m\u001b[36mtestdata\u001b[m\u001b[m\n",
      "deployment.py         \u001b[1m\u001b[36mpracticemodels\u001b[m\u001b[m        training.py\n",
      "diagnostics.py        \u001b[1m\u001b[36mproduction_deployment\u001b[m\u001b[m wsgi.py\n",
      "environment.yml       reporting.py\n"
     ]
    }
   ],
   "source": [
    "!ls"
   ]
  },
  {
   "cell_type": "code",
   "execution_count": 53,
   "id": "de0cbc9b",
   "metadata": {},
   "outputs": [],
   "source": [
    "def model_predictions():\n",
    "    df = pd.read_csv(os.path.join(config['output_folder_path'], 'finaldata.csv'))\n",
    "    X_test, y_test = process_data(df, label='exited')\n",
    "\n",
    "    clf = joblib.load(os.path.join(config['output_folder_path'], 'trainedmodel.pkl'))\n",
    "    preds = clf.predict(X_test)\n",
    "\n",
    "    return preds"
   ]
  },
  {
   "cell_type": "code",
   "execution_count": 55,
   "id": "4e9d171f",
   "metadata": {},
   "outputs": [],
   "source": [
    "from training import process_data"
   ]
  },
  {
   "cell_type": "code",
   "execution_count": 58,
   "id": "6af2533b",
   "metadata": {},
   "outputs": [],
   "source": [
    "import joblib"
   ]
  },
  {
   "cell_type": "code",
   "execution_count": 59,
   "id": "e5c4c2fa",
   "metadata": {},
   "outputs": [
    {
     "data": {
      "text/plain": [
       "array([0, 1, 1, 0, 1, 1, 0, 1, 1, 1, 1, 1, 0, 1, 1, 1, 0, 1, 1, 1, 1, 1,\n",
       "       0, 1, 0, 1])"
      ]
     },
     "execution_count": 59,
     "metadata": {},
     "output_type": "execute_result"
    }
   ],
   "source": [
    "model_predictions()"
   ]
  },
  {
   "cell_type": "code",
   "execution_count": null,
   "id": "d16329c8",
   "metadata": {},
   "outputs": [],
   "source": []
  }
 ],
 "metadata": {
  "kernelspec": {
   "display_name": "Python 3 (ipykernel)",
   "language": "python",
   "name": "python3"
  },
  "language_info": {
   "codemirror_mode": {
    "name": "ipython",
    "version": 3
   },
   "file_extension": ".py",
   "mimetype": "text/x-python",
   "name": "python",
   "nbconvert_exporter": "python",
   "pygments_lexer": "ipython3",
   "version": "3.8.13"
  }
 },
 "nbformat": 4,
 "nbformat_minor": 5
}

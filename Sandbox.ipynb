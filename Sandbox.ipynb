{
 "cells": [
  {
   "cell_type": "code",
   "execution_count": 7,
   "id": "62fa0763",
   "metadata": {},
   "outputs": [],
   "source": [
    "import sys\n",
    "sys.path.append('.')"
   ]
  },
  {
   "cell_type": "code",
   "execution_count": 11,
   "id": "d5a0b2ae",
   "metadata": {},
   "outputs": [],
   "source": [
    "import os\n",
    "import glob\n",
    "import json"
   ]
  },
  {
   "cell_type": "code",
   "execution_count": 17,
   "id": "4db0fd06",
   "metadata": {},
   "outputs": [],
   "source": [
    "import pandas as pd"
   ]
  },
  {
   "cell_type": "code",
   "execution_count": 10,
   "id": "0fb9951d",
   "metadata": {},
   "outputs": [],
   "source": [
    "with open('config.json', 'r') as f:\n",
    "    config = json.load(f) \n",
    "\n",
    "input_folder_path = config['input_folder_path']\n",
    "output_folder_path = config['output_folder_path']"
   ]
  },
  {
   "cell_type": "code",
   "execution_count": 49,
   "id": "12eb0871",
   "metadata": {},
   "outputs": [],
   "source": [
    "ingested_f = open(os.path.join(output_folder_path, 'ingestedfiles.txt'), 'w')\n",
    "\n",
    "full_df = pd.DataFrame()\n",
    "for csv_f in glob.glob(pathname='practicedata/*.csv'):\n",
    "    df = pd.read_csv(csv_f)\n",
    "    full_df = pd.concat([full_df, df], axis=0, ignore_index=True)\n",
    "    ingested_f.write(f'{csv_f}\\n')\n",
    "    \n",
    "ingested_f.close()\n",
    "\n",
    "full_df = full_df.drop_duplicates(ignore_index=True)\n",
    "full_df.to_csv(os.path.join(output_folder_path, 'finaldata.csv'), index=False)"
   ]
  },
  {
   "cell_type": "code",
   "execution_count": 51,
   "id": "64175341",
   "metadata": {},
   "outputs": [],
   "source": []
  },
  {
   "cell_type": "code",
   "execution_count": null,
   "id": "2e871e44",
   "metadata": {},
   "outputs": [],
   "source": []
  }
 ],
 "metadata": {
  "kernelspec": {
   "display_name": "Python 3 (ipykernel)",
   "language": "python",
   "name": "python3"
  },
  "language_info": {
   "codemirror_mode": {
    "name": "ipython",
    "version": 3
   },
   "file_extension": ".py",
   "mimetype": "text/x-python",
   "name": "python",
   "nbconvert_exporter": "python",
   "pygments_lexer": "ipython3",
   "version": "3.8.13"
  }
 },
 "nbformat": 4,
 "nbformat_minor": 5
}
